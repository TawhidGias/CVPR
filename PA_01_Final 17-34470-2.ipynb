{
 "cells": [
  {
   "cell_type": "code",
   "execution_count": 1,
   "id": "145b03bc",
   "metadata": {},
   "outputs": [],
   "source": [
    "import tensorflow as tf\n",
    "from tensorflow import keras\n",
    "from tensorflow.keras.datasets import cifar10\n",
    "from tensorflow.keras.preprocessing.image import ImageDataGenerator\n",
    "from tensorflow.keras.models import Sequential\n",
    "from tensorflow.keras.layers import Dense, Dropout, Activation, Flatten\n",
    "from tensorflow.keras.layers import Conv2D, MaxPooling2D\n",
    "import os\n",
    "import numpy as np\n",
    "import matplotlib\n",
    "import matplotlib.pyplot as plt\n",
    "import seaborn as sns"
   ]
  },
  {
   "cell_type": "code",
   "execution_count": 2,
   "id": "27378981",
   "metadata": {},
   "outputs": [
    {
     "name": "stdout",
     "output_type": "stream",
     "text": [
      "Shape of X_train: (50000, 32, 32, 3)\n",
      "Shape of Y_train: (50000, 1)\n",
      "Samples of X_train: 50000\n",
      "Samples of Y_train: 50000\n"
     ]
    }
   ],
   "source": [
    "(X_train,Y_train),(X_test,Y_test) = cifar10.load_data()\n",
    "print('Shape of X_train:',X_train.shape)\n",
    "print('Shape of Y_train:',Y_train.shape)\n",
    "print('Samples of X_train:',X_train.shape[0])\n",
    "print('Samples of Y_train:',Y_train.shape[0])"
   ]
  },
  {
   "cell_type": "code",
   "execution_count": 3,
   "id": "39981333",
   "metadata": {},
   "outputs": [
    {
     "name": "stderr",
     "output_type": "stream",
     "text": [
      "D:\\Anaconda\\envs\\cvpr\\lib\\site-packages\\seaborn\\_decorators.py:36: FutureWarning: Pass the following variable as a keyword arg: x. From version 0.12, the only valid positional argument will be `data`, and passing other arguments without an explicit keyword will result in an error or misinterpretation.\n",
      "  warnings.warn(\n",
      "D:\\Anaconda\\envs\\cvpr\\lib\\site-packages\\seaborn\\_decorators.py:36: FutureWarning: Pass the following variable as a keyword arg: x. From version 0.12, the only valid positional argument will be `data`, and passing other arguments without an explicit keyword will result in an error or misinterpretation.\n",
      "  warnings.warn(\n"
     ]
    },
    {
     "data": {
      "image/png": "[encoded data removed]",
      "text/plain": [
       "<Figure size 1080x360 with 2 Axes>"
      ]
     },
     "metadata": {
      "needs_background": "light"
     },
     "output_type": "display_data"
    }
   ],
   "source": [
    "fig,axs = plt.subplots(1,2,figsize = (15,5))\n",
    "sns.countplot(Y_train.ravel(),ax = axs[0])\n",
    "axs[0].set_title('Distribution of Training Data')\n",
    "axs[0].set_xlabel('Class')\n",
    "sns.countplot(Y_test.ravel(),ax = axs[1])\n",
    "axs[1].set_title('Distribution of Testing Data')\n",
    "axs[1].set_xlabel('Class')\n",
    "plt.show()"
   ]
  },
  {
   "cell_type": "code",
   "execution_count": 4,
   "id": "6fe11e73",
   "metadata": {},
   "outputs": [],
   "source": [
    "X_train = X_train.astype('float32')\n",
    "X_test = X_test.astype('float32')\n",
    "X_train /= 255\n",
    "X_test /= 255\n",
    "num_classes = 10\n",
    "Y_train = keras.utils.to_categorical(Y_train,num_classes)\n",
    "Y_test = keras.utils.to_categorical(Y_test,num_classes)"
   ]
  },
  {
   "cell_type": "code",
   "execution_count": 5,
   "id": "037daea9",
   "metadata": {},
   "outputs": [
    {
     "name": "stdout",
     "output_type": "stream",
     "text": [
      "Model: \"sequential\"\n",
      "_________________________________________________________________\n",
      "Layer (type)                 Output Shape              Param #   \n",
      "=================================================================\n",
      "conv2d (Conv2D)              (None, 32, 32, 32)        896       \n",
      "_________________________________________________________________\n",
      "activation (Activation)      (None, 32, 32, 32)        0         \n",
      "_________________________________________________________________\n",
      "conv2d_1 (Conv2D)            (None, 30, 30, 32)        9248      \n",
      "_________________________________________________________________\n",
      "activation_1 (Activation)    (None, 30, 30, 32)        0         \n",
      "_________________________________________________________________\n",
      "max_pooling2d (MaxPooling2D) (None, 15, 15, 32)        0         \n",
      "_________________________________________________________________\n",
      "dropout (Dropout)            (None, 15, 15, 32)        0         \n",
      "_________________________________________________________________\n",
      "conv2d_2 (Conv2D)            (None, 15, 15, 64)        18496     \n",
      "_________________________________________________________________\n",
      "activation_2 (Activation)    (None, 15, 15, 64)        0         \n",
      "_________________________________________________________________\n",
      "conv2d_3 (Conv2D)            (None, 13, 13, 64)        36928     \n",
      "_________________________________________________________________\n",
      "activation_3 (Activation)    (None, 13, 13, 64)        0         \n",
      "_________________________________________________________________\n",
      "max_pooling2d_1 (MaxPooling2 (None, 6, 6, 64)          0         \n",
      "_________________________________________________________________\n",
      "dropout_1 (Dropout)          (None, 6, 6, 64)          0         \n",
      "_________________________________________________________________\n",
      "flatten (Flatten)            (None, 2304)              0         \n",
      "_________________________________________________________________\n",
      "dense (Dense)                (None, 512)               1180160   \n",
      "_________________________________________________________________\n",
      "activation_4 (Activation)    (None, 512)               0         \n",
      "_________________________________________________________________\n",
      "dropout_2 (Dropout)          (None, 512)               0         \n",
      "_________________________________________________________________\n",
      "dense_1 (Dense)              (None, 10)                5130      \n",
      "_________________________________________________________________\n",
      "activation_5 (Activation)    (None, 10)                0         \n",
      "=================================================================\n",
      "Total params: 1,250,858\n",
      "Trainable params: 1,250,858\n",
      "Non-trainable params: 0\n",
      "_________________________________________________________________\n"
     ]
    }
   ],
   "source": [
    "model = Sequential()\n",
    "model.add(Conv2D(32, (3, 3), padding='same',input_shape=X_train.shape[1:]))\n",
    "model.add(Activation('relu'))\n",
    "model.add(Conv2D(32, (3, 3)))\n",
    "model.add(Activation('relu'))\n",
    "model.add(MaxPooling2D(pool_size=(2, 2)))\n",
    "model.add(Dropout(0.25))\n",
    "model.add(Conv2D(64, (3, 3), padding='same'))\n",
    "model.add(Activation('relu'))\n",
    "model.add(Conv2D(64, (3, 3)))\n",
    "model.add(Activation('relu'))\n",
    "model.add(MaxPooling2D(pool_size=(2, 2)))\n",
    "model.add(Dropout(0.25))\n",
    "model.add(Flatten())\n",
    "model.add(Dense(512))\n",
    "model.add(Activation('relu'))\n",
    "model.add(Dropout(0.5))\n",
    "model.add(Dense(num_classes))\n",
    "model.add(Activation('softmax'))\n",
    "model.summary()"
   ]
  },
  {
   "cell_type": "code",
   "execution_count": 6,
   "id": "3c82f7b3",
   "metadata": {},
   "outputs": [],
   "source": [
    "opt = keras.optimizers.RMSprop(learning_rate = 0.0001,decay = 1e-6)\n",
    "model.compile(loss = 'categorical_crossentropy',optimizer = opt,metrics = ['accuracy'])"
   ]
  },
  {
   "cell_type": "code",
   "execution_count": 7,
   "id": "9310deb3",
   "metadata": {},
   "outputs": [],
   "source": [
    "batch_size = 32\n",
    "epochs = 5\n",
    "plenty_data_augmentation = True"
   ]
  },
  {
   "cell_type": "code",
   "execution_count": 8,
   "id": "40afba17",
   "metadata": {},
   "outputs": [
    {
     "name": "stdout",
     "output_type": "stream",
     "text": [
      "Heavy Data Augmentation\n",
      "Epoch 1/5\n",
      "1563/1563 [==============================] - 207s 131ms/step - loss: 2.0101 - accuracy: 0.2512 - val_loss: 1.5856 - val_accuracy: 0.4276\n",
      "Epoch 2/5\n",
      "1563/1563 [==============================] - 207s 133ms/step - loss: 1.5980 - accuracy: 0.4105 - val_loss: 1.4221 - val_accuracy: 0.4881\n",
      "Epoch 3/5\n",
      "1563/1563 [==============================] - 221s 141ms/step - loss: 1.4740 - accuracy: 0.4646 - val_loss: 1.2972 - val_accuracy: 0.5356\n",
      "Epoch 4/5\n",
      "1563/1563 [==============================] - 201s 129ms/step - loss: 1.3858 - accuracy: 0.4967 - val_loss: 1.2544 - val_accuracy: 0.5541\n",
      "Epoch 5/5\n",
      "1563/1563 [==============================] - 205s 131ms/step - loss: 1.3146 - accuracy: 0.5319 - val_loss: 1.2124 - val_accuracy: 0.5712\n"
     ]
    }
   ],
   "source": [
    "history = None\n",
    "if not plenty_data_augmentation:\n",
    "    print('Simple Data Augmentation')\n",
    "    datagen = ImageDataGenerator(rotation_range = 0,width_shift_range = 0.1,height_shift_range = 0.1,data_format = None,validation_split = 0.0)\n",
    "    datagen.fit(X_train)\n",
    "    history = model.fit(datagen.flow(X_train,Y_train,batch_size = batch_size),epochs = epochs,validation_data = (X_test,Y_test),workers = 4)\n",
    "else:\n",
    "    print('Heavy Data Augmentation')\n",
    "    datagen = ImageDataGenerator(featurewise_center = False,samplewise_center = False,featurewise_std_normalization = False,samplewise_std_normalization = False,zca_whitening = False,zca_epsilon = 1e-6,rotation_range = 0,width_shift_range = 0.1,height_shift_range = 0.1,shear_range = 0,zoom_range = 0,channel_shift_range = 0,fill_mode = 'nearest',cval = 0,horizontal_flip = True,vertical_flip = False,rescale = None,preprocessing_function = None,data_format = None,validation_split = 0.0)\n",
    "    datagen.fit(X_train)\n",
    "    history = model.fit(datagen.flow(X_train,Y_train,batch_size = batch_size),epochs = epochs,validation_data = (X_test,Y_test),workers = 4)"
   ]
  },
  {
   "cell_type": "code",
   "execution_count": 9,
   "id": "5e9e6483",
   "metadata": {},
   "outputs": [
    {
     "name": "stdout",
     "output_type": "stream",
     "text": [
      "dict_keys(['loss', 'accuracy', 'val_loss', 'val_accuracy'])\n"
     ]
    },
    {
     "data": {
      "image/png": "[encoded data removed]",
      "text/plain": [
       "<Figure size 1080x360 with 2 Axes>"
      ]
     },
     "metadata": {
      "needs_background": "light"
     },
     "output_type": "display_data"
    }
   ],
   "source": [
    "def plotmodelhistory(history):\n",
    "    fig,axs = plt.subplots(1,2,figsize = (15,5))\n",
    "    axs[0].plot(history.history['accuracy'])\n",
    "    axs[0].plot(history.history['val_accuracy'])\n",
    "    axs[0].set_title('Model Accuracy')\n",
    "    axs[0].set_ylabel('Accuracy')\n",
    "    axs[0].set_xlabel('Epoch')\n",
    "    axs[0].legend(['train','validate'],loc = 'upper left')\n",
    "    axs[1].plot(history.history['loss'])\n",
    "    axs[1].plot(history.history['val_loss'])\n",
    "    axs[1].set_title('Model Loss')\n",
    "    axs[1].set_ylabel('Loss')\n",
    "    axs[1].set_xlabel('Epoch')\n",
    "    axs[1].legend(['train','validate'],loc = 'upper left')\n",
    "    plt.show()\n",
    "print(history.history.keys())\n",
    "plotmodelhistory(history)"
   ]
  },
  {
   "cell_type": "code",
   "execution_count": 10,
   "id": "f4b20cc1",
   "metadata": {},
   "outputs": [
    {
     "name": "stdout",
     "output_type": "stream",
     "text": [
      "313/313 [==============================] - 7s 23ms/step - loss: 1.2124 - accuracy: 0.5712\n",
      "Test Loss: 1.2123827934265137\n",
      "Test Accuracy: 0.5712000131607056\n"
     ]
    }
   ],
   "source": [
    "t = model.evaluate(X_test,Y_test,verbose = 1)\n",
    "print('Test Loss:',t[0])\n",
    "print('Test Accuracy:',t[1])\n",
    "pred = model.predict(X_test)"
   ]
  }
 ],
 "metadata": {
  "kernelspec": {
   "display_name": "Python [conda env:cvpr] *",
   "language": "python",
   "name": "conda-env-cvpr-py"
  },
  "language_info": {
   "codemirror_mode": {
    "name": "ipython",
    "version": 3
   },
   "file_extension": ".py",
   "mimetype": "text/x-python",
   "name": "python",
   "nbconvert_exporter": "python",
   "pygments_lexer": "ipython3",
   "version": "3.8.10"
  }
 },
 "nbformat": 4,
 "nbformat_minor": 5
}
